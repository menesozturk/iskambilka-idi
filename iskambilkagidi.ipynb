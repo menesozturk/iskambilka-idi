{
 "cells": [
  {
   "cell_type": "code",
   "execution_count": 20,
   "metadata": {},
   "outputs": [
    {
     "name": "stdout",
     "output_type": "stream",
     "text": [
      "Oyuncu 1 \tOyuncu 2 \tOyuncu 3 \tOyuncu 4\n",
      "Sinek 4    \tKupa 3    \tKaro 5     \tSinek Vale\n",
      "Maça Kız\tSinek 1    \tMaça 5     \tKaro 1    \n",
      "Maça 6    \tSinek 9    \tMaça Vale \tKaro 3    \n",
      "Maça 9    \tKaro 8    \tSinek 8     \tMaça 1    \n",
      "Karo Vale\tSinek Papaz\tMaça 10     \tKaro 7    \n",
      "Sinek 3    \tMaça 4    \tMaça Papaz \tKaro 9    \n",
      "Maça 8    \tSinek 2    \tMaça 2     \tKupa 7    \n",
      "Sinek Kız\tKupa 2    \tMaça 3     \tKupa 8    \n",
      "Sinek 5    \tSinek 10    \tKupa 10     \tKaro Papaz\n",
      "Sinek 7    \tKupa Papaz\tKupa 1     \tKaro 6    \n",
      "Sinek 6    \tKaro 4    \tMaça 7     \tKaro 10    \n",
      "Kupa Vale\tKupa 5    \tKaro 2     \tKupa 6    \n",
      "Karo Kız\tKupa 4    \tKupa 9     \tKupa Kız\n"
     ]
    }
   ],
   "source": [
    "import random\n",
    "import time\n",
    "\n",
    "simgeler=['Karo','Maça','Sinek','Kupa'] #Simgeleri yaziyoruz.\n",
    "sayılar=['1    ','2    ','3    ','4    ','5    ','6    ','7    ','8    ','9    ','10    ','Vale','Kız','Papaz'] #Simgelerin icinde yer alacak degerleri  yaziyoruz.\n",
    "kartlar=[] #Bos bir kartlar dizisi yazıyoruz.Burada sayılar ve simgeler birlesecek.\n",
    "oync1=[] #1. oyuncuya dagitilacak kartlari tutacak bir  dizi yazıyoruz.Hepsi için tekrarlıyoruz.\n",
    "oync2=[] #2. oyuncu icin.\n",
    "oync3=[] #3. oyuncu icin.\n",
    "oync4=[] #4. oyuncu icin.\n",
    "\n",
    "for i in simgeler:\n",
    "\tfor j in sayılar:\n",
    "\t\tkartlar.append(i+' '+str(j)) #Sayilari ve simgeleri birbiriyle karıstırıp kartlar dizisine gönderiyoruz.\n",
    "\n",
    "krtsayisi=52\n",
    "while krtsayisi!=39: \n",
    "\tatama=random.choice(kartlar)#Kartların icinden rastgele kart secer.\n",
    "\ttime.sleep(0.1)#\"random.choice'in\" her seciminin arasina 0.1 saniye bekleme atıyoruz(alıntıdır).\n",
    "\toync1.append(atama) #İlk cekilen rastgele 13 kartı oync1 dizisine ekliyoruz.\n",
    "\tkartlar.remove(atama) #Cekilen kart kartlar dizisinden siliniyor.\n",
    "\tkrtsayisi=krtsayisi-1\n",
    "\n",
    "while krtsayisi!=26:\n",
    "\tatama=random.choice(kartlar)#Kartların icinden rastgele kart secer.\n",
    "\ttime.sleep(0.1)#\"random.choice'in\" her seciminin arasina 0.1 saniye bekleme atıyoruz(alıntıdır).\n",
    "\toync2.append(atama) #İkinci cekilen rastgele 13 kartı oync2 ekliyoruz.\n",
    "\tkartlar.remove(atama)#Cekilen kart kartlar dizisinden siliniyor.\n",
    "\tkrtsayisi=krtsayisi-1\n",
    "\n",
    "while krtsayisi!=13:\n",
    "\tatama=random.choice(kartlar)#Kartların icinden rastgele kart secer.\n",
    "\ttime.sleep(0.1)#\"random.choice'in\" her seciminin arasina 0.1 saniye bekleme atıyoruz(alıntıdır).\n",
    "\toync3.append(atama)# ucuncu cekilen rastgele 13 kartı oync3 dizisine ekliyoruz.\n",
    "\tkartlar.remove(atama)#Cekilen kart kartlar dizisinden siliniyor.\n",
    "\tkrtsayisi=krtsayisi-1\n",
    "\n",
    "while krtsayisi!=0:\n",
    "\tatama=random.choice(kartlar)#Kartların icinden rastgele kart secer.\n",
    "\ttime.sleep(0.1)#\"random.choice'in\" her seciminin arasina 0.1 saniye bekleme atıyoruz(alıntıdır).\n",
    "\toync4.append(atama)# dorduncu cekilen rastgele 13 kartı oync4 dizisine ekliyoruz.\n",
    "\tkartlar.remove(atama)#Cekilen kart kartlar dizisinden siliniyor.\n",
    "\tkrtsayisi=krtsayisi-1\n",
    "\n",
    "def dagit(): \n",
    "        print('Oyuncu 1 \\tOyuncu 2 \\tOyuncu 3 \\tOyuncu 4') #Dagitilan kartlari ekrana  yazıyoruz.\n",
    "        for i in range(0,13): # 0 dan  13 ' e kadar dagittigimiz butun dizilerin sirasiyla 0.1.2.3...12. indislerini ekrana yazdiriyoruz.\n",
    "                               \n",
    "                print(oync1[i] + '\\t' + oync2[i] + '\\t' + oync3[i] + ' \\t' + oync4[i])\n",
    "dagit()#Calıstırıyoruz."
   ]
  },
  {
   "cell_type": "code",
   "execution_count": null,
   "metadata": {},
   "outputs": [],
   "source": []
  }
 ],
 "metadata": {
  "kernelspec": {
   "display_name": "Python 3",
   "language": "python",
   "name": "python3"
  },
  "language_info": {
   "codemirror_mode": {
    "name": "ipython",
    "version": 3
   },
   "file_extension": ".py",
   "mimetype": "text/x-python",
   "name": "python",
   "nbconvert_exporter": "python",
   "pygments_lexer": "ipython3",
   "version": "3.7.4"
  }
 },
 "nbformat": 4,
 "nbformat_minor": 2
}
